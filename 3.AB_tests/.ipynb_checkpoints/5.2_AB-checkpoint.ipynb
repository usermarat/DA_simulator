{
 "cells": [
  {
   "cell_type": "code",
   "execution_count": 1,
   "metadata": {},
   "outputs": [],
   "source": [
    "import pandas as pd\n",
    "import numpy as np\n",
    "import pandahouse as ph\n",
    "from scipy import stats\n",
    "import seaborn as sns\n",
    "from tqdm import tqdm\n",
    "import hashlib"
   ]
  },
  {
   "cell_type": "code",
   "execution_count": 2,
   "metadata": {},
   "outputs": [],
   "source": [
    "connection = {'host': 'https://clickhouse.lab.karpov.courses',\n",
    "              'database':'simulator_20230620',\n",
    "              'user':'student', \n",
    "              'password':'dpo_python_2020'\n",
    "             }\n",
    "\n",
    "query = '''\n",
    "select exp_group,\n",
    "       user_id, \n",
    "       countIf(action = 'view') as views, \n",
    "       countIf(action = 'like') as likes,\n",
    "       likes / views as ctr\n",
    "from {db}.feed_actions \n",
    "where toDate(time) between toDate('2023-05-31') and toDate('2023-06-06')\n",
    "and exp_group in (2, 1)\n",
    "group by exp_group, user_id \n",
    "'''\n",
    "\n",
    "df = ph.read_clickhouse(query, connection=connection)"
   ]
  },
  {
   "cell_type": "markdown",
   "metadata": {},
   "source": [
    "В группе 2 был использован один из новых алгоритмов рекомендации постов, группа 1 использовалась в качестве контроля. Основная гипотеза заключается в том, что новый алгоритм во 2-й группе приведет к увеличению CTR. \n",
    "Примерно по 10 тысяч пользователей в каждой из групп:"
   ]
  },
  {
   "cell_type": "code",
   "execution_count": 3,
   "metadata": {},
   "outputs": [
    {
     "data": {
      "text/plain": [
       "exp_group\n",
       "1    10079\n",
       "2     9952\n",
       "Name: count, dtype: int64"
      ]
     },
     "execution_count": 3,
     "metadata": {},
     "output_type": "execute_result"
    }
   ],
   "source": [
    "df.exp_group.value_counts()"
   ]
  },
  {
   "cell_type": "markdown",
   "metadata": {},
   "source": [
    "Для начала стоит рассмотреть распределение метрики по двум группам"
   ]
  },
  {
   "cell_type": "code",
   "execution_count": 5,
   "metadata": {},
   "outputs": [
    {
     "data": {
      "image/png": "[encoded data removed]",
      "text/plain": [
       "<Figure size 842.4x595.44 with 1 Axes>"
      ]
     },
     "metadata": {},
     "output_type": "display_data"
    }
   ],
   "source": [
    "sns.set(rc={'figure.figsize':(11.7,8.27)})\n",
    "\n",
    "groups = sns.histplot(data = df, \n",
    "                      x='ctr',\n",
    "                      hue='exp_group', \n",
    "                      palette = ['r', 'b'],\n",
    "                      alpha=0.5,\n",
    "                      kde=False)"
   ]
  },
  {
   "cell_type": "markdown",
   "metadata": {},
   "source": [
    "Получили интересное и очевидно разное распределение метрики по группам, по которому уже можно сделать определенные выводы о проведенном эксперименте по внедрению нового алгоритма. А именно, что алгоритм очевидно влияет на ключевую метрику - распределение второй группы стало \"менее нормальным\" и \"двугорбым\". При этом в первую вершину попали существенно более низкие значения ключевой метрики (CTR ~ 0.1), к тому же и с бОльшим числом наблюдений (более 1 тыс.), как относительно второй вершины (CTR ~ 0.3 и кол. наблюдений порядка 400), так и относительно единой вершины контрольной 1ой группы (0,2 и ок. 600 соотв.) - все это указывает, что новый алгоритм привел к значительному изменению ключевой метрики у тестовой группы, однако данное изменение было скорее в негативную сторону (визуально по гистограмме CTR 2ой тестовой группы ниже, чем у контрольной, в связи с \"перетягиванием\" показателя в меньшую сторону более высокой вершиной)"
   ]
  },
  {
   "cell_type": "markdown",
   "metadata": {},
   "source": [
    "Посмотрим, как отработают тесты на группах"
   ]
  },
  {
   "cell_type": "markdown",
   "metadata": {},
   "source": [
    "1. T-тест"
   ]
  },
  {
   "cell_type": "code",
   "execution_count": 6,
   "metadata": {},
   "outputs": [
    {
     "data": {
      "text/plain": [
       "Ttest_indResult(statistic=0.7094392041270486, pvalue=0.4780623130874935)"
      ]
     },
     "execution_count": 6,
     "metadata": {},
     "output_type": "execute_result"
    }
   ],
   "source": [
    "stats.ttest_ind(df.query('exp_group == 1').ctr, \n",
    "                df.query('exp_group == 2').ctr,\n",
    "                equal_var=False)"
   ]
  },
  {
   "cell_type": "markdown",
   "metadata": {},
   "source": [
    "Тест не показал значимых отличий между группами - pvalue составил 0,48, что при принятом уровне значимости 0,05 не позволяет отклонить нулевую гипотезу о принадлежности двух групп единой генеральной совокупности. Скорее всего, причина как раз кроется в характере полученного распределения у 2ой группы, а именно - оно сильно скошено за счет первого \"горба\", а также опять же из-за такой специфичной \"двугорбости\" в распределении очень высока вероятность больших по модулю отклонений (жирные выбросы — часть распределения). Все это делает не совсем рабочим вариант использовать обычный t тест на необработанных данных \"как есть\" - использование в таком виде повышает риски получить ошибку второго рода (принять неверную нулевую гипотезу).\n",
    "\n",
    "Посмотрим на работу иных тестов"
   ]
  },
  {
   "cell_type": "markdown",
   "metadata": {},
   "source": [
    "2. Тест Манна-Уитни"
   ]
  },
  {
   "cell_type": "code",
   "execution_count": 7,
   "metadata": {},
   "outputs": [
    {
     "data": {
      "text/plain": [
       "MannwhitneyuResult(statistic=43704947.5, pvalue=6.0376484617779035e-56)"
      ]
     },
     "execution_count": 7,
     "metadata": {},
     "output_type": "execute_result"
    }
   ],
   "source": [
    "stats.mannwhitneyu(df[df.exp_group == 2].ctr,\n",
    "                   df[df.exp_group == 1].ctr)"
   ]
  },
  {
   "cell_type": "markdown",
   "metadata": {},
   "source": [
    "Непараметрический тест Манна-Уитни показал значимые отличия между группами - pvalue существенно меньше принятого уровня значимости, что дает основания отклонить нулевую гипотезу. И действительно, с учетом того как он работает (нулевая гипотеза звучит как равенство вероятностей двух противоположных сравнений: 1)получения значения из 1ой группы больше значения из 2ой группы и 2)получения значения из 2ой группы больше значения из 1ой), даже визуально по распределениям значений заметно, что данные вероятности равны не будут."
   ]
  },
  {
   "cell_type": "markdown",
   "metadata": {},
   "source": [
    "3. Сглаженный CTR (α=5) "
   ]
  },
  {
   "cell_type": "markdown",
   "metadata": {},
   "source": [
    "Рассчитаем сглаженные значения метрики и построим гистаграмму их распределения"
   ]
  },
  {
   "cell_type": "code",
   "execution_count": 8,
   "metadata": {},
   "outputs": [
    {
     "data": {
      "image/png": "[encoded data removed]",
      "text/plain": [
       "<Figure size 842.4x595.44 with 1 Axes>"
      ]
     },
     "metadata": {},
     "output_type": "display_data"
    }
   ],
   "source": [
    "def get_smoothed_ctr(user_likes, user_views, global_ctr, alpha):\n",
    "    smoothed_ctr = (user_likes + alpha * global_ctr) / (user_views + alpha)\n",
    "    return smoothed_ctr\n",
    "\n",
    "global_ctr_1 = df[df.exp_group == 1].likes.sum()/df[df.exp_group == 1].views.sum()\n",
    "global_ctr_2 = df[df.exp_group == 2].likes.sum()/df[df.exp_group == 2].views.sum()\n",
    "\n",
    "smooth_ctr_1 = df[df.exp_group == 1].apply(lambda x: get_smoothed_ctr(x['likes'],\n",
    "                                                                      x['views'],\n",
    "                                                                      global_ctr_1,\n",
    "                                                                      5), \n",
    "                                           axis=1)\n",
    "smooth_ctr_2 = df[df.exp_group == 2].apply(lambda x: get_smoothed_ctr(x['likes'],\n",
    "                                                                      x['views'],\n",
    "                                                                      global_ctr_2,\n",
    "                                                                      5), \n",
    "                                           axis=1)\n",
    "\n",
    "df['smooth_ctr'] = smooth_ctr_1\n",
    "df.loc[df.exp_group == 2, 'smooth_ctr'] = smooth_ctr_2\n",
    "\n",
    "groups = sns.histplot(data = df, \n",
    "                      x='smooth_ctr', \n",
    "                      hue='exp_group', \n",
    "                      palette = ['r', 'b'],\n",
    "                      alpha=0.5,\n",
    "                      kde=False)"
   ]
  },
  {
   "cell_type": "markdown",
   "metadata": {},
   "source": [
    "С применением данной методики сглаживания экстремальные значения показателя приблизились к общегрупповой величине - сравнивая данную гистограмму с первой, заметно, что нулевые значения устранились, правый \"хвост\" распределений так же уменьшился.\n",
    "\n",
    "Рассчитаем тесты на сглаженных значениях метрики."
   ]
  },
  {
   "cell_type": "code",
   "execution_count": 9,
   "metadata": {},
   "outputs": [
    {
     "data": {
      "text/plain": [
       "Ttest_indResult(statistic=2.2841320431616983, pvalue=0.022376981555855876)"
      ]
     },
     "execution_count": 9,
     "metadata": {},
     "output_type": "execute_result"
    }
   ],
   "source": [
    "stats.ttest_ind(smooth_ctr_1, \n",
    "                smooth_ctr_2,\n",
    "                equal_var=False)"
   ]
  },
  {
   "cell_type": "markdown",
   "metadata": {},
   "source": [
    "Как видим, на сглаженных значения t тест уже показывает более реалистичную картину - pvalue уже менее уровня значимости, что дает основания отклонить нулевую гипотезу о равенстве средних. Возможно, это обусловлено тем, что сглаженные значения показателя в 1ой группе стали еще ближе к центру его распределения, дисперсия уменьшилась, а распределение в целом еще ближе приблизилось к нормальному. Все это позволило t тесту более четко идентифицировать различие между распределениями в группах."
   ]
  },
  {
   "cell_type": "code",
   "execution_count": 10,
   "metadata": {},
   "outputs": [
    {
     "data": {
      "text/plain": [
       "MannwhitneyuResult(statistic=56925125.0, pvalue=1.6163964114270227e-61)"
      ]
     },
     "execution_count": 10,
     "metadata": {},
     "output_type": "execute_result"
    }
   ],
   "source": [
    "stats.mannwhitneyu(smooth_ctr_1, \n",
    "                   smooth_ctr_2)"
   ]
  },
  {
   "cell_type": "markdown",
   "metadata": {},
   "source": [
    "Тест Манна-Уитни так же показал еще большее различие между группами"
   ]
  },
  {
   "cell_type": "markdown",
   "metadata": {},
   "source": [
    "4. Пуассоновский бутстреп"
   ]
  },
  {
   "cell_type": "markdown",
   "metadata": {},
   "source": [
    "Рассчитаем по 2000 общегрупповых показателей CTR для каждой из двух групп на основе имитации формирования подвыборок из каждой из них."
   ]
  },
  {
   "cell_type": "code",
   "execution_count": 11,
   "metadata": {},
   "outputs": [],
   "source": [
    "def bootstrap(likes1, views1, likes2, views2, n_bootstrap=2000):\n",
    "\n",
    "    poisson_bootstraps1 = stats.poisson(1).rvs(\n",
    "        (n_bootstrap, len(likes1))).astype(np.int64)\n",
    "\n",
    "    poisson_bootstraps2 = stats.poisson(1).rvs(\n",
    "            (n_bootstrap, len(likes2))).astype(np.int64)\n",
    "    \n",
    "    globalCTR1 = (poisson_bootstraps1*likes1).sum(axis=1)/(poisson_bootstraps1*views1).sum(axis=1)\n",
    "    \n",
    "    globalCTR2 = (poisson_bootstraps2*likes2).sum(axis=1)/(poisson_bootstraps2*views2).sum(axis=1)\n",
    "\n",
    "    return globalCTR1, globalCTR2\n",
    "\n",
    "likes1 = df[df.exp_group == 1].likes.to_numpy()\n",
    "views1 = df[df.exp_group == 1].views.to_numpy()\n",
    "likes2 = df[df.exp_group == 2].likes.to_numpy()\n",
    "views2 = df[df.exp_group == 2].views.to_numpy()\n",
    "\n",
    "ctr1, ctr2 = bootstrap(likes1, views1, likes2, views2)"
   ]
  },
  {
   "cell_type": "code",
   "execution_count": 15,
   "metadata": {},
   "outputs": [
    {
     "data": {
      "image/png": "[encoded data removed]",
      "text/plain": [
       "<Figure size 842.4x595.44 with 1 Axes>"
      ]
     },
     "metadata": {},
     "output_type": "display_data"
    }
   ],
   "source": [
    "sns.histplot(ctr1)\n",
    "sns.histplot(ctr2);"
   ]
  },
  {
   "cell_type": "markdown",
   "metadata": {},
   "source": [
    "Как видим общегрупповые CTR, полученные формированием случайных подвыборок из каждой из групп, распределяются в значительном отдалении друг от друга и даже не пересекаются между собой, что так же является твердым свидетельством верности гипотезы Н1 о принадлежности выборок разным генеральным совокупностям. \n",
    "\n",
    "Кроме того, характерно проявляется \"ширина\" распределения каждой из групп - как следует из самой первой гистограммы, у 1ой группы одна вершина, вокруг которой сформировано большинство наблюдений (более приближено к нормальному распределению), когда как по 2ой группе две вершины более \"раздвигают\" дисперсию в разные стороны. Соответствующе ведут себя и сформированные подвыборки - дисперсия подвыборочных CTR из 1ой группы визуально гораздо \"уже\", чем из 2ой группы.\n",
    "\n",
    "По данной гистограмме следует подчеркнуть и второе важное наблюдение - распределение подвыборочных CTR из контрольной 1ой группы находится правее распределения 2ой группы, что дополнительно подтверждает изначальный вывод, сделанный на основе предварительного анализа распределения CTR по группам - а именно, внедрение нового алгоритма негативно сказалось на исследуемой метрике (CTR по тестовой группе ниже, чем по контрольной).\n",
    "\n",
    "Для наглядности гистограмма распределения разниц подвыборочных CTR из 2ой и 1ой групп - значения отрицательны:"
   ]
  },
  {
   "cell_type": "code",
   "execution_count": 17,
   "metadata": {},
   "outputs": [
    {
     "data": {
      "image/png": "[encoded data removed]",
      "text/plain": [
       "<Figure size 842.4x595.44 with 1 Axes>"
      ]
     },
     "metadata": {},
     "output_type": "display_data"
    }
   ],
   "source": [
    "sns.histplot(ctr2 - ctr1);"
   ]
  },
  {
   "cell_type": "markdown",
   "metadata": {},
   "source": [
    "5. Тесты поверх бакетного преобразования"
   ]
  },
  {
   "cell_type": "markdown",
   "metadata": {},
   "source": [
    "Распределим всех юзеров по 50 подгруппам на основе их id с применением \"соли\" детерминированным способом:"
   ]
  },
  {
   "cell_type": "code",
   "execution_count": 18,
   "metadata": {},
   "outputs": [],
   "source": [
    "def ab_split(id, salt='exp_mess_1', n_groups=50):\n",
    "    test_id = str(id) + '-' + str(salt)\n",
    "    test_id_digest = hashlib.md5(test_id.encode('ascii')).hexdigest()\n",
    "    test_id_final_int = int(test_id_digest, 16)\n",
    "    return test_id_final_int % n_groups\n",
    "\n",
    "df['bucket'] = df.user_id.apply(ab_split)"
   ]
  },
  {
   "cell_type": "markdown",
   "metadata": {},
   "source": [
    "Расчитаем общий показатель CTR по каждой из подгрупп для тестовой и контрольной группы (метрика по \"мета-пользователям\") и посторим гистаграмму их распределений:"
   ]
  },
  {
   "cell_type": "code",
   "execution_count": 20,
   "metadata": {},
   "outputs": [
    {
     "data": {
      "image/png": "[encoded data removed]",
      "text/plain": [
       "<Figure size 842.4x595.44 with 1 Axes>"
      ]
     },
     "metadata": {},
     "output_type": "display_data"
    }
   ],
   "source": [
    "bucket_ctr = df.groupby(['exp_group', 'bucket']).likes.sum() / df.groupby(['exp_group', 'bucket']).views.sum()\n",
    "sns.histplot(bucket_ctr[1].values)\n",
    "sns.histplot(bucket_ctr[2].values);"
   ]
  },
  {
   "cell_type": "markdown",
   "metadata": {},
   "source": [
    "Распределение \"побакетного\" CTR так же наводит на аналогичные выводы - распределения выглядят неодинаково, а так же метрика тестовой группы ниже контрольной (ее вершина распределения расположена левее вершины контрольной)\n",
    "\n",
    "Рассчитаем тесты на основе бакетных CTR"
   ]
  },
  {
   "cell_type": "code",
   "execution_count": 21,
   "metadata": {},
   "outputs": [
    {
     "data": {
      "text/plain": [
       "Ttest_indResult(statistic=5.741526456221474, pvalue=1.937624902064435e-07)"
      ]
     },
     "execution_count": 21,
     "metadata": {},
     "output_type": "execute_result"
    }
   ],
   "source": [
    "stats.ttest_ind(bucket_ctr[1].values, \n",
    "                bucket_ctr[2].values,\n",
    "                equal_var=False)"
   ]
  },
  {
   "cell_type": "code",
   "execution_count": 22,
   "metadata": {},
   "outputs": [
    {
     "data": {
      "text/plain": [
       "MannwhitneyuResult(statistic=1993.0, pvalue=3.0771207101702053e-07)"
      ]
     },
     "execution_count": 22,
     "metadata": {},
     "output_type": "execute_result"
    }
   ],
   "source": [
    "stats.mannwhitneyu(bucket_ctr[1], \n",
    "                   bucket_ctr[2])"
   ]
  },
  {
   "cell_type": "markdown",
   "metadata": {},
   "source": [
    "Получены наиболее значимые различия по t тесту (по сравнению с двумя первыми) и менее значимые различия по тесту Манна-Уитни (хотя все так же он зафиксировал значимость различий), что в целом, можно объяснить использованием в тестах \"агрегированных\" метрик по подгруппам-бакетам, что в случае t теста подчеркивает различия между выборками (различия распределений более выраженны), а в случае теста Манна-Уитни из-за ранговых сравнений (один общий ранг присваивается всему бакету, а не отдельно свой ранг по каждому пользователю) оценки так же обобщаются и различия распределений становятся менее явными."
   ]
  },
  {
   "cell_type": "markdown",
   "metadata": {},
   "source": [
    "ИТОГОВЫЙ ВЫВОД:\n",
    "\n",
    "Из всех проведенных тестов значимых различий не показал только самый первый t тест, примененный к необработанным данным - как уже был сделан вывод, причина кроется в специфике распределения метрики в тестовой группы, в связи с чем можно считать его неприменимым в таком виде и возможным пренебречь его результатами.\n",
    "\n",
    "Все остальные тесты показали значимые различия - более того, различия оказались в негативную сторону, противоположно ожиданиям - основная гипотеза заключалась в том, что новый алгоритм во 2-й группе приведет к увеличению CTR, в то время как фактически бутстреп и бакетные тесты показали негативную разницу (CTR контрольной группы выше тестовой).\n",
    "\n",
    "Как отмечалось в выводах к первой гистограмме новый алгоритм привел к значительному изменению ключевой метрики у тестовой группы, однако данное изменение было в негативную сторону (визуально по гистограмме CTR тестовой группы ниже, чем у контрольной, в связи с \"перетягиванием\" показателя в меньшую сторону более высокой вершиной распределения тестовой группы).\n",
    "\n",
    "Какова причина такого распределения у тестовой группы? (вопрос № 3)\n",
    "\n",
    "\"Двугорбость\" распределения с двумя вершинами может свидетельствовать о том, что новый алгоритм рекомендации постов неодинаково повлиял на аудиторию из тестовой группы, входящих в ее разные подгруппы на основании каких-либо иных критериев, т.е. изначальный признак разделения групп на тестовую и контрольную (а именно новый алгоритм применялся/не применялся) вступил во взаимодействие с другими признаками, разделяющими тестовую группу на подгруппы (например, пол, возраст, используемое устройство для приложения и проч.). В результате этого могли образоваться кластеры, состоящие из пользователей, принадлежащих разным подгруппам тестовой группы на основе данных дополнительных признаков, которые по-разному среагировали на новый алгоритм. Учитывая существенную разность высоты двух пиков, данные доп. признаки должны разделять тестовую группу на подгруппы разных размеров - соответственно, это к примеру, не характеристика \"пол\", т.к. среди пользователей разделение примерно 50/50, например, это может быть используемой устройство (ос - андроид или эппл - первых больше среди наших пользователей). Утрированный пример - новый алгоритм рекомендации постов почему-то решил, что всем пользователям нужно видеть больше постов про эппловскую технику (обзоры, статьи, рейтинги и т.п.), соответственно, большинству пользователей из тестовой группы это не понравилось из-за их приверженности андроид-устройствам, в то время как меньшей подгруппе \"яблочников\" новые рекомендации зашли, из-за чего получаем CTR с более низким значением и бОльшим количеством наблюдений (первая вершина - андроид пользователи) и второй CTR с более высоким значеним и низким количеством наблюдений (вторая вершина - эппл пользователи).\n",
    "\n",
    "Рекомендация стоит или не стоит раскатывать новый алгоритм на всех новых пользователей? (вопрос № 4)\n",
    "\n",
    "Учитывая общее негативное влияние нового алгоритма на CTR, в таком виде раскатывать, конечно, не стоит - скорее всего, в таком случае мы увидим, как впоследствии наша метрика по всему приложению поплывет вниз. Однако, я думаю, что стоит взглянуть подробнее на возможные причины как раз такого специфичного распределения тестовой группы - все-таки вторая вершина находится правее вершины контрольной группы, а значит на какую-то часть тестовой группы новый алгоритм оказал положительное воздействие. Следует понять, на основе какой/каких характеристик сформировалась данная подгруппа, и можем ли мы это как-то использовать в улучшении пользовательского опыта (например, каким-то образом сегментировать аудиторию и выкатывать новые алгоритмы посегментно)."
   ]
  },
  {
   "cell_type": "code",
   "execution_count": null,
   "metadata": {},
   "outputs": [],
   "source": []
  }
 ],
 "metadata": {
  "kernelspec": {
   "display_name": "Python 3",
   "language": "python",
   "name": "python3"
  },
  "language_info": {
   "codemirror_mode": {
    "name": "ipython",
    "version": 3
   },
   "file_extension": ".py",
   "mimetype": "text/x-python",
   "name": "python",
   "nbconvert_exporter": "python",
   "pygments_lexer": "ipython3",
   "version": "3.8.5"
  },
  "toc": {
   "base_numbering": 1,
   "nav_menu": {},
   "number_sections": true,
   "sideBar": true,
   "skip_h1_title": false,
   "title_cell": "Table of Contents",
   "title_sidebar": "Contents",
   "toc_cell": false,
   "toc_position": {},
   "toc_section_display": true,
   "toc_window_display": false
  }
 },
 "nbformat": 4,
 "nbformat_minor": 5
}
